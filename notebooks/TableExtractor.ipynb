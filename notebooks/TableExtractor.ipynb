{
 "cells": [
  {
   "cell_type": "markdown",
   "id": "c00266ea-e831-4b9f-91d2-870aee98d570",
   "metadata": {},
   "source": [
    "# Configuration\n",
    "\n",
    "Setup the following:\n",
    "- data directory\n",
    "- env vars"
   ]
  },
  {
   "cell_type": "code",
   "execution_count": 5,
   "id": "464f7778-72cb-4ec4-8a39-855d81dcc212",
   "metadata": {},
   "outputs": [],
   "source": [
    "%load_ext autoreload\n",
    "%autoreload 2"
   ]
  },
  {
   "cell_type": "code",
   "execution_count": 9,
   "id": "2f98ceea-5046-4d35-9210-4560e514224b",
   "metadata": {},
   "outputs": [],
   "source": [
    "import anthropic"
   ]
  },
  {
   "cell_type": "code",
   "execution_count": 25,
   "id": "c3c0c3a2-ccd7-4d83-aea1-f52030176214",
   "metadata": {},
   "outputs": [],
   "source": [
    "import bizwiz\n",
    "bizwiz.load_llm_env()\n",
    "\n",
    "path_manager = bizwiz.PathManager(\n",
    "    data_dir = \"../data/\"\n",
    ")\n",
    "\n",
    "chat_manager = bizwiz.ChatManager()\n"
   ]
  },
  {
   "cell_type": "code",
   "execution_count": 26,
   "id": "a6379bc4-44c1-4dea-a1ca-253ed556d4af",
   "metadata": {},
   "outputs": [
    {
     "data": {
      "text/plain": [
       "\"Hello! Yes, I'm functioning properly. Is there anything specific you'd like assistance with today?\""
      ]
     },
     "execution_count": 26,
     "metadata": {},
     "output_type": "execute_result"
    }
   ],
   "source": [
    "chat_manager.promt('testing if claude works')"
   ]
  }
 ],
 "metadata": {
  "kernelspec": {
   "display_name": "Python 3 (ipykernel)",
   "language": "python",
   "name": "python3"
  },
  "language_info": {
   "codemirror_mode": {
    "name": "ipython",
    "version": 3
   },
   "file_extension": ".py",
   "mimetype": "text/x-python",
   "name": "python",
   "nbconvert_exporter": "python",
   "pygments_lexer": "ipython3",
   "version": "3.10.14"
  }
 },
 "nbformat": 4,
 "nbformat_minor": 5
}
