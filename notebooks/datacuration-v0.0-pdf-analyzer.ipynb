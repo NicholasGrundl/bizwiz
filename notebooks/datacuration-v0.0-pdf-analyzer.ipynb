{
 "cells": [
  {
   "cell_type": "code",
   "execution_count": 1,
   "id": "986229e5-54ba-465f-be69-e06eefca00d6",
   "metadata": {},
   "outputs": [],
   "source": [
    "%load_ext autoreload\n",
    "%autoreload 2"
   ]
  },
  {
   "cell_type": "code",
   "execution_count": 2,
   "id": "68b6e33a-27a3-4e21-af78-cc6ccb5c0ca4",
   "metadata": {},
   "outputs": [
    {
     "data": {
      "text/plain": [
       "['../+knowledge/Liao_text_2017-Industrial_biotechnology.pdf',\n",
       " '../+knowledge/Ratledge and Kristiansen - 2006 - Basic biotechnology.pdf',\n",
       " '../+knowledge/VitaminB12_March_2024.pdf',\n",
       " '../+knowledge/Lactoferrin_August_2024.pdf',\n",
       " '../+knowledge/41467_2022_Article_32296.pdf',\n",
       " '../+knowledge/s41467-022-32296-y.pdf',\n",
       " '../+knowledge/main.pdf']"
      ]
     },
     "metadata": {},
     "output_type": "display_data"
    }
   ],
   "source": [
    "from conductor.knowledge import pdf\n",
    "\n",
    "import pathlib\n",
    "\n",
    "\n",
    "knowledge_dir = pathlib.Path(\"../+knowledge/\")\n",
    "knowledge_filenames = [\n",
    "    str(p)\n",
    "    for p in knowledge_dir.iterdir()\n",
    "    if p.suffix in ['.pdf']\n",
    "]\n",
    "display(knowledge_filenames)"
   ]
  },
  {
   "cell_type": "code",
   "execution_count": 3,
   "id": "c590e5d9-46e2-4b4f-86ae-0e93c9db4ef6",
   "metadata": {},
   "outputs": [],
   "source": [
    "#utilities\n",
    "def get_contents_pagerange(doc)->tuple[int]:\n",
    "    \"\"\"find the table of contents pages\"\"\"\n",
    "    return (5,22)\n",
    "\n",
    "def pagerange_to_pagenums(pagerange):\n",
    "    pagenums = range(pagerange[0], pagerange[1]+1)\n",
    "    return list(pagenums)\n",
    "\n",
    "def get_page_text(doc, pagenum):\n",
    "    return doc[pagenum].get_text()\n"
   ]
  },
  {
   "cell_type": "code",
   "execution_count": 4,
   "id": "6d973349-678e-4d59-9781-21cb7b30b751",
   "metadata": {},
   "outputs": [],
   "source": [
    "# Global metrics assessment\n",
    "import matplotlib.pyplot as plt\n",
    "def get_new_ax(figsize=(5,3)):\n",
    "    fig, ax = plt.subplots(1,1, figsize=figsize)\n",
    "    plt.close()\n",
    "    return ax\n",
    "\n",
    "def describe_document(doc, plot_kwargs={}):\n",
    "    \n",
    "    global_metadata = pdf.get_global_metadata(doc)\n",
    "\n",
    "    pagenums = global_metadata['pagenums']\n",
    "    wordcounts = global_metadata['wordcounts']\n",
    "    lettercounts = global_metadata['lettercounts']\n",
    "\n",
    "    #Inspect the blank page thresholds\n",
    "    thresholds, blankpage_counts = pdf.get_blankpage_counts_by_threshold(\n",
    "        wordcounts, \n",
    "        lower_threshold=0, \n",
    "        upper_threshold=100, \n",
    "        step=10\n",
    "    )\n",
    "\n",
    "    ###### plotting\n",
    "    figsize = plot_kwargs.get('figsize', (5,3))\n",
    "    linestyle = plot_kwargs.get('linestyle','-')\n",
    "    linewidth = plot_kwargs.get('linewidth',1)\n",
    "    color = plot_kwargs.get('color', '#1e5a3e') \n",
    "    edgecolor = plot_kwargs.get('edgecolor',\"#FFFFFF\")\n",
    "    marker = plot_kwargs.get('marker',\".\")\n",
    "\n",
    "    #blank pages by threshold\n",
    "    ax = get_new_ax(figsize)\n",
    "    ax.plot(\n",
    "        thresholds, blankpage_counts,\n",
    "        color=color,\n",
    "        linestyle=linestyle, linewidth=linewidth,\n",
    "        marker=marker,\n",
    "    )\n",
    "    ax.set(\n",
    "        title=\"Blank page count versus wordcount threshold for blank\",\n",
    "        xlabel='Word Count', \n",
    "        ylabel='# Blank Pages'\n",
    "    )\n",
    "    fig_blankpage_thresholds = ax.figure\n",
    "\n",
    "    #Word count page distribution\n",
    "    ax = get_new_ax(figsize)\n",
    "    bins = int(len(wordcounts)/10)\n",
    "    bins = 10 if bins==1 else bins\n",
    "    ax.hist(\n",
    "        wordcounts, bins=bins, \n",
    "        color=color, edgecolor=edgecolor\n",
    "    )\n",
    "    ax.set(\n",
    "        title=\"Distribution of words per page\",\n",
    "        xlabel='Word Count / Page', \n",
    "        ylabel='# of Pages'\n",
    "    )\n",
    "    fig_wordcount_distribution = ax.figure\n",
    "\n",
    "    #wordcounts by page\n",
    "    if len(pagenums)>100:\n",
    "        #turn off marker\n",
    "        marker=' '\n",
    "    ax = get_new_ax(figsize)\n",
    "    ax.plot(\n",
    "        pagenums, wordcounts,\n",
    "        color=color,\n",
    "        linestyle=linestyle, linewidth=linewidth, \n",
    "        marker=marker,\n",
    "    )\n",
    "    ax.set(\n",
    "        title=\"Wordcount by page number\",\n",
    "        xlabel='Page Number',\n",
    "        ylabel='Word Count'\n",
    "    )\n",
    "    fig_wordcounts = ax.figure\n",
    "\n",
    "\n",
    "    ### display figures\n",
    "    display(fig_blankpage_thresholds)\n",
    "    display(fig_wordcount_distribution)\n",
    "    display(fig_wordcounts)\n",
    "\n",
    "    ###Return diagnostic\n",
    "    return thresholds, blankpage_counts"
   ]
  },
  {
   "cell_type": "markdown",
   "id": "f7dd51a4-f3f4-4a08-bc51-6a76f92863d5",
   "metadata": {},
   "source": [
    "# Analyze global metrics (preparsing)\n",
    "\n",
    "- use this information to identify parsing logic\n",
    "    - journal has immediate pages (identify journal using LLM) and no blank pages\n",
    "    - textbook has long pages and blank page profiles that are not flat\n",
    "- for text book use blank pages to delineate search for key information:\n",
    "    - title and author\n",
    "    - table of contents"
   ]
  },
  {
   "cell_type": "code",
   "execution_count": 5,
   "id": "414ff401-b90b-466e-b268-5509fb8f7055",
   "metadata": {},
   "outputs": [],
   "source": [
    "from conductor.knowledge import pdf"
   ]
  },
  {
   "cell_type": "code",
   "execution_count": 6,
   "id": "d3158748-c29f-4562-b51b-f405bcff6503",
   "metadata": {},
   "outputs": [],
   "source": [
    "file_path = \"../+knowledge/Liao_text_2017-Industrial_biotechnology.pdf\"\n",
    "doc = pdf.load_pdf(file_path)\n",
    "\n",
    "pagenums = pdf.get_pagenums(doc)\n",
    "wordcounts = pdf.get_wordcounts(doc)\n",
    "lettercounts = pdf.get_lettercounts(doc)\n",
    "blankpages = pdf.get_blankpages_by_wordcounts(wordcounts, threshold=50)\n",
    "blankpage_count = pdf.blankpages_count(blankpages)\n",
    "thresholds, blankpage_counts = pdf.get_blankpage_counts_by_threshold(wordcounts)\n",
    "global_metadata = pdf.get_global_metadata(doc)"
   ]
  },
  {
   "cell_type": "markdown",
   "id": "71ec1dde-bfd4-4ccf-8a41-aeabfaafd046",
   "metadata": {},
   "source": [
    "## Textbook"
   ]
  },
  {
   "cell_type": "code",
   "execution_count": 7,
   "id": "9c857692-146f-4e7b-be8a-e5ee3184056a",
   "metadata": {},
   "outputs": [
    {
     "data": {
      "image/png": "[encoded data removed]",
      "text/plain": [
       "<Figure size 500x300 with 1 Axes>"
      ]
     },
     "metadata": {},
     "output_type": "display_data"
    },
    {
     "data": {
      "image/png": "[encoded data removed]",
      "text/plain": [
       "<Figure size 500x300 with 1 Axes>"
      ]
     },
     "metadata": {},
     "output_type": "display_data"
    },
    {
     "data": {
      "image/png": "[encoded data removed]",
      "text/plain": [
       "<Figure size 500x300 with 1 Axes>"
      ]
     },
     "metadata": {},
     "output_type": "display_data"
    }
   ],
   "source": [
    "file_path = \"../+knowledge/Liao_text_2017-Industrial_biotechnology.pdf\"\n",
    "doc = pdf.load_pdf(file_path)\n",
    "\n",
    "global_metadata = pdf.get_global_metadata(doc)\n",
    "thresholds, blankpage_counts = describe_document(doc, plot_kwargs={})"
   ]
  },
  {
   "cell_type": "markdown",
   "id": "4fb1ca15-0754-4d41-af77-1eabee1e3c15",
   "metadata": {},
   "source": [
    "## Journal"
   ]
  },
  {
   "cell_type": "code",
   "execution_count": 8,
   "id": "55e9bbcd-fd5a-4f6d-b815-7cb4c7ca75ec",
   "metadata": {},
   "outputs": [
    {
     "data": {
      "image/png": "[encoded data removed]",
      "text/plain": [
       "<Figure size 500x300 with 1 Axes>"
      ]
     },
     "metadata": {},
     "output_type": "display_data"
    },
    {
     "data": {
      "image/png": "[encoded data removed]",
      "text/plain": [
       "<Figure size 500x300 with 1 Axes>"
      ]
     },
     "metadata": {},
     "output_type": "display_data"
    },
    {
     "data": {
      "image/png": "[encoded data removed]",
      "text/plain": [
       "<Figure size 500x300 with 1 Axes>"
      ]
     },
     "metadata": {},
     "output_type": "display_data"
    }
   ],
   "source": [
    "file_path = \"../+knowledge/41467_2022_Article_32296.pdf\"\n",
    "doc = pdf.load_pdf(file_path)\n",
    "\n",
    "global_metadata = pdf.get_global_metadata(doc)\n",
    "thresholds, blankpage_counts = describe_document(doc, plot_kwargs={})"
   ]
  },
  {
   "cell_type": "markdown",
   "id": "e6ec39ea-c02f-4e75-8b12-734de2206306",
   "metadata": {},
   "source": [
    "## Analyze Metadata Metrics (parsing sections)\n",
    "- next we will identify sections of the documents that need specific logic based parsing\n",
    "\n",
    "**textbooks**\n",
    "- identify the table of contents\n",
    "- use the table of contents to find the page numbers of chapters, etc.\n",
    "- identify any figure numbers?\n",
    "\n",
    "**journal**\n",
    "- identify the journal and citation\n",
    "- identify the abstract\n",
    "- identify the main sections of the journal (methods, results, etc)\n"
   ]
  },
  {
   "cell_type": "code",
   "execution_count": 9,
   "id": "eb9a87b8-92dc-435f-9cf3-6eff4006df58",
   "metadata": {},
   "outputs": [
    {
     "name": "stdout",
     "output_type": "stream",
     "text": [
      "API key loaded successfully!\n"
     ]
    }
   ],
   "source": [
    "import os\n",
    "from dotenv import load_dotenv\n",
    "\n",
    "# Load environment variables from .env file\n",
    "load_dotenv()\n",
    "\n",
    "# Verify that the API key is loaded\n",
    "openai_api_key = os.getenv('OPENAI_API_KEY')\n",
    "anthropic_api_key = os.getenv('ANTHROPIC_API_KEY')\n",
    "if openai_api_key and anthropic_api_key:\n",
    "   print(\"API key loaded successfully!\")\n",
    "else:\n",
    "   print(\"Failed to load API key. Check your .env file.\")"
   ]
  },
  {
   "cell_type": "markdown",
   "id": "fd4e11a5-eba9-4728-b7e2-84f667d58e45",
   "metadata": {},
   "source": [
    "## Journal"
   ]
  },
  {
   "cell_type": "code",
   "execution_count": 10,
   "id": "0a9de46c-57e7-404f-819d-6a32877890a9",
   "metadata": {},
   "outputs": [],
   "source": [
    "from conductor.knowledge import journal"
   ]
  },
  {
   "cell_type": "code",
   "execution_count": 11,
   "id": "baab2f79-a699-4177-a813-a379ad8bfee5",
   "metadata": {},
   "outputs": [],
   "source": [
    "file_path = \"../+knowledge/41467_2022_Article_32296.pdf\"\n",
    "doc = pdf.load_pdf(file_path)\n",
    "global_metadata = pdf.get_global_metadata(doc, threshold=200)"
   ]
  },
  {
   "cell_type": "markdown",
   "id": "74f1b317-69c3-4880-bf19-9d0f46f8b93a",
   "metadata": {},
   "source": [
    "## Global metadata"
   ]
  },
  {
   "cell_type": "code",
   "execution_count": 12,
   "id": "9a2bca5e-ed50-4773-9aeb-251062e0eba4",
   "metadata": {},
   "outputs": [
    {
     "data": {
      "text/plain": [
       "{'title': 'Muconic acid production from glucose and xylose in Pseudomonas putida via evolution and metabolic engineering',\n",
       " 'compeleteness': 'success'}"
      ]
     },
     "metadata": {},
     "output_type": "display_data"
    },
    {
     "data": {
      "text/plain": [
       "{'journal_name': 'Nature Communications', 'compeleteness': 'success'}"
      ]
     },
     "metadata": {},
     "output_type": "display_data"
    },
    {
     "data": {
      "text/plain": [
       "{'date_received': None,\n",
       " 'date_accepted': None,\n",
       " 'date_published': '2022-08-12',\n",
       " 'completeness': 'warning'}"
      ]
     },
     "metadata": {},
     "output_type": "display_data"
    },
    {
     "data": {
      "text/plain": [
       "{'authors': ['Chen Ling',\n",
       "  'George L. Peabody',\n",
       "  'Davinia Salvachúa',\n",
       "  'Young-Mo Kim',\n",
       "  'Colin M. Kneucker',\n",
       "  'Christopher H. Calvey',\n",
       "  'Michela A. Monninger',\n",
       "  'Nathalie Munoz Munoz',\n",
       "  'Brenton C. Poirier',\n",
       "  'Kelsey J. Ramirez',\n",
       "  'Peter C. St. John',\n",
       "  'Sean P. Woodworth',\n",
       "  'Jon K. Magnuson',\n",
       "  'Kristin E. Burnum-Johnson',\n",
       "  'Adam M. Guss',\n",
       "  'Christopher W. Johnson',\n",
       "  'Gregg T. Beckham'],\n",
       " 'completeness': 'success'}"
      ]
     },
     "metadata": {},
     "output_type": "display_data"
    },
    {
     "data": {
      "text/plain": [
       "{'abstract_page': 1,\n",
       " 'abstract': 'Muconic acid is a bioprivileged molecule that can be converted into direct replacement chemicals for incumbent petrochemicals and performance-advantaged bioproducts. In this study, Pseudomonas putida KT2440 is engineered to convert glucose and xylose, the primary carbohydrates in lignocellulosic hydrolysates, to muconic acid using a model-guided strategy to maximize the theoretical yield. Using adaptive laboratory evolution (ALE) and metabolic engineering in a strain engineered to express the D-xylose isomerase pathway, we demonstrate that mutations in the heterologous D-xylose:H+ symporter (XylE), increased expression of a major facilitator superfamily transporter (PP_2569), and overexpression of aroB encoding the native 3-dehydroquinate synthase, enable efficient muconic acid production from glucose and xylose simultaneously. Using the rationally engineered strain, we produce 33.7 g L−1 muconate at 0.18 g L−1 h−1 and a 46% molar yield (92% of the maximum theoretical yield).',\n",
       " 'completeness': 'success'}"
      ]
     },
     "metadata": {},
     "output_type": "display_data"
    }
   ],
   "source": [
    "title = journal.identify_article_title(doc)\n",
    "display(title)\n",
    "publisher = journal.identify_article_publisher(doc)\n",
    "display(publisher)\n",
    "publishing_dates = journal.identify_publishing_dates(doc)\n",
    "display(publishing_dates)\n",
    "authors = journal.identify_article_authors(doc)\n",
    "display(authors)\n",
    "abstract = journal.identify_article_abstract(doc)\n",
    "display(abstract)"
   ]
  },
  {
   "cell_type": "markdown",
   "id": "9a4ae7f5-f762-4f26-a416-67ec3f489646",
   "metadata": {},
   "source": [
    "## Document Structure"
   ]
  },
  {
   "cell_type": "code",
   "execution_count": 16,
   "id": "a1d94709-ab30-4cf2-a180-e0b4c073d216",
   "metadata": {},
   "outputs": [],
   "source": [
    "from conductor.knowledge import journal_sections\n",
    "pages = {\n",
    "    'title' : doc[0],\n",
    "    'first' : doc[1],\n",
    "    'second' : doc[2],\n",
    "}\n",
    "page_blocks = {\n",
    "    name : page.get_text(\"dict\")[\"blocks\"]\n",
    "    for name, page in pages.items()\n",
    "}\n"
   ]
  },
  {
   "cell_type": "code",
   "execution_count": 17,
   "id": "c3b1538b-5872-41d4-b5e6-7968e29a25ea",
   "metadata": {},
   "outputs": [
    {
     "name": "stdout",
     "output_type": "stream",
     "text": [
      "Blocks: 35\n"
     ]
    }
   ],
   "source": [
    "page_name = 'second'\n",
    "page = pages[page_name]\n",
    "blocks = page_blocks[page_name]\n",
    "print(f\"Blocks: {len(blocks)}\")\n",
    "block_analyzer = journal_sections.BlockAnalyzer(window_size=100, use_word_count=False)"
   ]
  },
  {
   "cell_type": "code",
   "execution_count": 49,
   "id": "559cae4d-577c-4ead-ae93-0d62a536d796",
   "metadata": {},
   "outputs": [
    {
     "data": {
      "text/plain": [
       "[8.219099998474121,\n",
       " 8.219099998474121,\n",
       " 8.219099998474121,\n",
       " 8.219099998474121,\n",
       " 8.219099998474121,\n",
       " 8.219099998474121,\n",
       " 8.219099998474121]"
      ]
     },
     "execution_count": 49,
     "metadata": {},
     "output_type": "execute_result"
    }
   ],
   "source": [
    "block = blocks[0]\n",
    "lines = block[\"lines\"]\n",
    "fontsizes = [\n",
    "    line['spans'][0]['size'] \n",
    "    for line in lines\n",
    "]\n",
    "# words = [span for line in block[\"lines\"] for span in line[\"spans\"]]\n",
    "fontsizes"
   ]
  },
  {
   "cell_type": "code",
   "execution_count": 51,
   "id": "4c0c41a9-0c97-4a55-85f6-4b67f8a65ae5",
   "metadata": {},
   "outputs": [
    {
     "data": {
      "text/plain": [
       "[]"
      ]
     },
     "metadata": {},
     "output_type": "display_data"
    }
   ],
   "source": [
    "block = blocks[0]\n",
    "text_groups_block = block_analyzer.analyze_with_fontproperties(block)\n",
    "display(text_groups_block)"
   ]
  },
  {
   "cell_type": "code",
   "execution_count": 32,
   "id": "1b43ff03-596c-4e19-af61-f2ccc9bfebd2",
   "metadata": {},
   "outputs": [
    {
     "ename": "AttributeError",
     "evalue": "'BlockAnalyzer' object has no attribute 'analyze'",
     "output_type": "error",
     "traceback": [
      "\u001b[0;31m---------------------------------------------------------------------------\u001b[0m",
      "\u001b[0;31mAttributeError\u001b[0m                            Traceback (most recent call last)",
      "Cell \u001b[0;32mIn[32], line 3\u001b[0m\n\u001b[1;32m      1\u001b[0m block \u001b[38;5;241m=\u001b[39m blocks[\u001b[38;5;241m0\u001b[39m]\n\u001b[1;32m      2\u001b[0m block_analyzer \u001b[38;5;241m=\u001b[39m journal_sections\u001b[38;5;241m.\u001b[39mBlockAnalyzer(window_size\u001b[38;5;241m=\u001b[39m\u001b[38;5;241m100\u001b[39m, use_word_count\u001b[38;5;241m=\u001b[39m\u001b[38;5;28;01mFalse\u001b[39;00m)\n\u001b[0;32m----> 3\u001b[0m text_groups, avg_font_size \u001b[38;5;241m=\u001b[39m \u001b[43mblock_analyzer\u001b[49m\u001b[38;5;241;43m.\u001b[39;49m\u001b[43manalyze\u001b[49m(block)\n\u001b[1;32m      4\u001b[0m text_groups[\u001b[38;5;241m0\u001b[39m]\n",
      "\u001b[0;31mAttributeError\u001b[0m: 'BlockAnalyzer' object has no attribute 'analyze'"
     ]
    }
   ],
   "source": [
    "block = blocks[0]\n",
    "block_analyzer = journal_sections.BlockAnalyzer(window_size=100, use_word_count=False)\n",
    "text_groups, avg_font_size = block_analyzer.analyze(block)\n",
    "text_groups[0]"
   ]
  },
  {
   "cell_type": "code",
   "execution_count": 34,
   "id": "7ec7ee66-ef8d-467d-9f1c-368c9a72a09a",
   "metadata": {},
   "outputs": [],
   "source": []
  },
  {
   "cell_type": "code",
   "execution_count": 35,
   "id": "1634cd05-57a0-4440-b984-8b897305bdc3",
   "metadata": {},
   "outputs": [
    {
     "data": {
      "text/plain": [
       "([<conductor.knowledge.journal_sections.TextGroup at 0x7fdea5b0dd20>,\n",
       "  <conductor.knowledge.journal_sections.TextGroup at 0x7fdea5b0dde0>,\n",
       "  <conductor.knowledge.journal_sections.TextGroup at 0x7fdea5b0de40>,\n",
       "  <conductor.knowledge.journal_sections.TextGroup at 0x7fdea5b0ded0>],\n",
       " 8.219099998474121)"
      ]
     },
     "execution_count": 35,
     "metadata": {},
     "output_type": "execute_result"
    }
   ],
   "source": []
  },
  {
   "cell_type": "code",
   "execution_count": null,
   "id": "6e637a2e-969c-4c61-b843-95c693b7d5b5",
   "metadata": {},
   "outputs": [],
   "source": [
    "\n",
    "for block in blocks:\n",
    "    if block[\"type\"] == 0:  # Text block\n",
    "        text_groups, avg_font_size = self.block_analyzer.analyze(block)\n",
    "        sections = self._process_text_groups(text_groups, avg_font_size, page_num)\n",
    "        all_sections.extend(sections)\n",
    "    if block[\"type\"] == 1: # Image\n",
    "        continue"
   ]
  },
  {
   "cell_type": "code",
   "execution_count": 16,
   "id": "e865285a-7138-4bee-a359-e9173b8e6804",
   "metadata": {},
   "outputs": [
    {
     "name": "stdout",
     "output_type": "stream",
     "text": [
      "Number of sections: 2220\n"
     ]
    }
   ],
   "source": [
    "from conductor.knowledge import journal_sections\n",
    "rules = [\n",
    "        journal_sections.SingleWordRule(),\n",
    "        journal_sections.LengthRule(),\n",
    "        journal_sections.TitleCaseRule(),\n",
    "        journal_sections.KeywordRule(['introduction', 'method', 'result', 'discussion', 'conclusion', 'reference', 'abstract']),\n",
    "        journal_sections.NumberingPatternRule(),\n",
    "        journal_sections.FontSizeRule(),\n",
    "        journal_sections.FontStyleRule()\n",
    "    ]\n",
    "rule_engine = journal_sections.RuleEngine(rules)\n",
    "block_analyzer = journal_sections.BlockAnalyzer(window_size=100, use_word_count=False)\n",
    "section_identifier = journal_sections.SectionIdentifier(rule_engine, block_analyzer)\n",
    "\n",
    "sections = section_identifier.identify_sections(doc)\n",
    "print(f\"Number of sections: {len(sections)}\")\n",
    "# Print identified sections\n",
    "# for section in sections:\n",
    "#     print(f\"Page {section['page_num'] + 1}: {section['text']}\")"
   ]
  },
  {
   "cell_type": "code",
   "execution_count": null,
   "id": "e8f710b5-af78-40e3-b40a-39f163e818a7",
   "metadata": {},
   "outputs": [],
   "source": []
  },
  {
   "cell_type": "code",
   "execution_count": 19,
   "id": "93525773-e636-48a2-9036-9c170b9f3ba1",
   "metadata": {},
   "outputs": [
    {
     "name": "stderr",
     "output_type": "stream",
     "text": [
      "Exception ignored in: <bound method IPythonKernel._clean_thread_parent_frames of <ipykernel.ipkernel.IPythonKernel object at 0x7fdf40f17eb0>>\n",
      "Traceback (most recent call last):\n",
      "  File \"/home/nicholasgrundl/miniconda3/envs/conductor/lib/python3.10/site-packages/ipykernel/ipkernel.py\", line 775, in _clean_thread_parent_frames\n",
      "    def _clean_thread_parent_frames(\n",
      "KeyboardInterrupt: \n"
     ]
    },
    {
     "ename": "KeyboardInterrupt",
     "evalue": "",
     "output_type": "error",
     "traceback": [
      "\u001b[0;31m---------------------------------------------------------------------------\u001b[0m",
      "\u001b[0;31mKeyboardInterrupt\u001b[0m                         Traceback (most recent call last)",
      "Cell \u001b[0;32mIn[19], line 13\u001b[0m\n\u001b[1;32m      2\u001b[0m \u001b[38;5;66;03m# Compose rules\u001b[39;00m\n\u001b[1;32m      3\u001b[0m rule \u001b[38;5;241m=\u001b[39m journal_functional\u001b[38;5;241m.\u001b[39mcompose_rules(\n\u001b[1;32m      4\u001b[0m     journal_functional\u001b[38;5;241m.\u001b[39msingle_word_rule,\n\u001b[1;32m      5\u001b[0m     journal_functional\u001b[38;5;241m.\u001b[39mlength_rule(),\n\u001b[0;32m   (...)\u001b[0m\n\u001b[1;32m     10\u001b[0m     journal_functional\u001b[38;5;241m.\u001b[39mfont_style_rule\n\u001b[1;32m     11\u001b[0m )\n\u001b[0;32m---> 13\u001b[0m sections \u001b[38;5;241m=\u001b[39m \u001b[43mjournal_functional\u001b[49m\u001b[38;5;241;43m.\u001b[39;49m\u001b[43mprocess_document\u001b[49m\u001b[43m(\u001b[49m\u001b[43mdoc\u001b[49m\u001b[43m,\u001b[49m\u001b[43m \u001b[49m\u001b[43mwindow_size\u001b[49m\u001b[38;5;241;43m=\u001b[39;49m\u001b[38;5;241;43m100\u001b[39;49m\u001b[43m,\u001b[49m\u001b[43m \u001b[49m\u001b[43muse_word_count\u001b[49m\u001b[38;5;241;43m=\u001b[39;49m\u001b[38;5;28;43;01mFalse\u001b[39;49;00m\u001b[43m,\u001b[49m\u001b[43m \u001b[49m\u001b[43mrule\u001b[49m\u001b[38;5;241;43m=\u001b[39;49m\u001b[43mrule\u001b[49m\u001b[43m)\u001b[49m\n\u001b[1;32m     15\u001b[0m \u001b[38;5;28mprint\u001b[39m(\u001b[38;5;124mf\u001b[39m\u001b[38;5;124m\"\u001b[39m\u001b[38;5;124mNumber of sections: \u001b[39m\u001b[38;5;132;01m{\u001b[39;00m\u001b[38;5;28mlen\u001b[39m(sections)\u001b[38;5;132;01m}\u001b[39;00m\u001b[38;5;124m\"\u001b[39m)\n\u001b[1;32m     16\u001b[0m \u001b[38;5;66;03m# Print identified sections\u001b[39;00m\n\u001b[1;32m     17\u001b[0m \u001b[38;5;66;03m# for section in sections:\u001b[39;00m\n\u001b[1;32m     18\u001b[0m \u001b[38;5;66;03m#     print(f\"Page {section.page_num + 1}: {section.text}\")\u001b[39;00m\n",
      "File \u001b[0;32m~/projects/conductor/src/conductor/knowledge/journal_functional.py:143\u001b[0m, in \u001b[0;36mprocess_document\u001b[0;34m(doc, window_size, use_word_count, rule)\u001b[0m\n\u001b[1;32m    141\u001b[0m     \u001b[38;5;28;01mfor\u001b[39;00m block \u001b[38;5;129;01min\u001b[39;00m blocks:\n\u001b[1;32m    142\u001b[0m         \u001b[38;5;28;01mif\u001b[39;00m block[\u001b[38;5;124m\"\u001b[39m\u001b[38;5;124mtype\u001b[39m\u001b[38;5;124m\"\u001b[39m] \u001b[38;5;241m==\u001b[39m \u001b[38;5;241m0\u001b[39m:  \u001b[38;5;66;03m# Text block\u001b[39;00m\n\u001b[0;32m--> 143\u001b[0m             potential_sections \u001b[38;5;241m=\u001b[39m \u001b[43manalyze_block\u001b[49m\u001b[43m(\u001b[49m\u001b[43mblock\u001b[49m\u001b[43m,\u001b[49m\u001b[43m \u001b[49m\u001b[43mwindow_size\u001b[49m\u001b[43m,\u001b[49m\u001b[43m \u001b[49m\u001b[43muse_word_count\u001b[49m\u001b[43m,\u001b[49m\u001b[43m \u001b[49m\u001b[43mrule\u001b[49m\u001b[43m)\u001b[49m\n\u001b[1;32m    144\u001b[0m             sections\u001b[38;5;241m.\u001b[39mextend(create_section(section, page_num) \u001b[38;5;28;01mfor\u001b[39;00m section \u001b[38;5;129;01min\u001b[39;00m potential_sections)\n\u001b[1;32m    145\u001b[0m \u001b[38;5;28;01mreturn\u001b[39;00m sections\n",
      "File \u001b[0;32m~/projects/conductor/src/conductor/knowledge/journal_functional.py:130\u001b[0m, in \u001b[0;36manalyze_block\u001b[0;34m(block, window_size, use_word_count, rule)\u001b[0m\n\u001b[1;32m    127\u001b[0m words \u001b[38;5;241m=\u001b[39m [span \u001b[38;5;28;01mfor\u001b[39;00m line \u001b[38;5;129;01min\u001b[39;00m block[\u001b[38;5;124m\"\u001b[39m\u001b[38;5;124mlines\u001b[39m\u001b[38;5;124m\"\u001b[39m] \u001b[38;5;28;01mfor\u001b[39;00m span \u001b[38;5;129;01min\u001b[39;00m line[\u001b[38;5;124m\"\u001b[39m\u001b[38;5;124mspans\u001b[39m\u001b[38;5;124m\"\u001b[39m]]\n\u001b[1;32m    128\u001b[0m avg_font_size \u001b[38;5;241m=\u001b[39m \u001b[38;5;28msum\u001b[39m(word[\u001b[38;5;124m'\u001b[39m\u001b[38;5;124msize\u001b[39m\u001b[38;5;124m'\u001b[39m] \u001b[38;5;28;01mfor\u001b[39;00m word \u001b[38;5;129;01min\u001b[39;00m words) \u001b[38;5;241m/\u001b[39m \u001b[38;5;28mlen\u001b[39m(words) \u001b[38;5;28;01mif\u001b[39;00m words \u001b[38;5;28;01melse\u001b[39;00m \u001b[38;5;241m0\u001b[39m\n\u001b[0;32m--> 130\u001b[0m windowed_words \u001b[38;5;241m=\u001b[39m \u001b[43mwindow_block\u001b[49m\u001b[43m(\u001b[49m\u001b[43mblock\u001b[49m\u001b[43m,\u001b[49m\u001b[43m \u001b[49m\u001b[43mwindow_size\u001b[49m\u001b[43m,\u001b[49m\u001b[43m \u001b[49m\u001b[43muse_word_count\u001b[49m\u001b[43m)\u001b[49m\n\u001b[1;32m    131\u001b[0m grouped_text \u001b[38;5;241m=\u001b[39m [group \u001b[38;5;28;01mfor\u001b[39;00m window \u001b[38;5;129;01min\u001b[39;00m windowed_words \u001b[38;5;28;01mfor\u001b[39;00m group \u001b[38;5;129;01min\u001b[39;00m group_text(window)]\n\u001b[1;32m    132\u001b[0m text_groups \u001b[38;5;241m=\u001b[39m [create_text_group(group) \u001b[38;5;28;01mfor\u001b[39;00m group \u001b[38;5;129;01min\u001b[39;00m grouped_text]\n",
      "File \u001b[0;32m~/projects/conductor/src/conductor/knowledge/journal_functional.py:93\u001b[0m, in \u001b[0;36mwindow_block\u001b[0;34m(block, window_size, use_word_count)\u001b[0m\n\u001b[1;32m     90\u001b[0m start \u001b[38;5;241m=\u001b[39m \u001b[38;5;241m0\u001b[39m\n\u001b[1;32m     91\u001b[0m \u001b[38;5;28;01mwhile\u001b[39;00m start \u001b[38;5;241m<\u001b[39m \u001b[38;5;28mlen\u001b[39m(words):\n\u001b[1;32m     92\u001b[0m     end \u001b[38;5;241m=\u001b[39m start \u001b[38;5;241m+\u001b[39m window_size \u001b[38;5;28;01mif\u001b[39;00m use_word_count \u001b[38;5;28;01melse\u001b[39;00m \u001b[38;5;28mnext\u001b[39m(\n\u001b[0;32m---> 93\u001b[0m         (i \u001b[38;5;28;01mfor\u001b[39;00m i, w \u001b[38;5;129;01min\u001b[39;00m \u001b[38;5;28;43menumerate\u001b[39;49m\u001b[43m(\u001b[49m\u001b[43mwords\u001b[49m\u001b[43m[\u001b[49m\u001b[43mstart\u001b[49m\u001b[43m:\u001b[49m\u001b[43m]\u001b[49m\u001b[43m,\u001b[49m\u001b[43m \u001b[49m\u001b[43mstart\u001b[49m\u001b[43m)\u001b[49m\n\u001b[1;32m     94\u001b[0m          \u001b[38;5;28;01mif\u001b[39;00m \u001b[38;5;28msum\u001b[39m(\u001b[38;5;28mlen\u001b[39m(words[j][\u001b[38;5;124m'\u001b[39m\u001b[38;5;124mtext\u001b[39m\u001b[38;5;124m'\u001b[39m]) \u001b[38;5;28;01mfor\u001b[39;00m j \u001b[38;5;129;01min\u001b[39;00m \u001b[38;5;28mrange\u001b[39m(start, i \u001b[38;5;241m+\u001b[39m \u001b[38;5;241m1\u001b[39m)) \u001b[38;5;241m>\u001b[39m window_size),\n\u001b[1;32m     95\u001b[0m         \u001b[38;5;28mlen\u001b[39m(words)\n\u001b[1;32m     96\u001b[0m     )\n\u001b[1;32m     97\u001b[0m     windowed_words\u001b[38;5;241m.\u001b[39mappend(words[start:end])\n\u001b[1;32m     98\u001b[0m     start \u001b[38;5;241m=\u001b[39m end\n",
      "\u001b[0;31mKeyboardInterrupt\u001b[0m: "
     ]
    }
   ],
   "source": [
    "from conductor.knowledge import journal_functional\n",
    "# Compose rules\n",
    "rule = journal_functional.compose_rules(\n",
    "    journal_functional.single_word_rule,\n",
    "    journal_functional.length_rule(),\n",
    "    journal_functional.title_case_rule,\n",
    "    journal_functional.keyword_rule(['introduction', 'method', 'result', 'discussion', 'conclusion', 'reference', 'abstract']),\n",
    "    journal_functional.numbering_pattern_rule,\n",
    "    journal_functional.font_size_rule(),\n",
    "    journal_functional.font_style_rule\n",
    ")\n",
    "\n",
    "sections = journal_functional.process_document(doc, window_size=100, use_word_count=False, rule=rule)\n",
    "\n",
    "print(f\"Number of sections: {len(sections)}\")\n",
    "# Print identified sections\n",
    "# for section in sections:\n",
    "#     print(f\"Page {section.page_num + 1}: {section.text}\")"
   ]
  },
  {
   "cell_type": "code",
   "execution_count": null,
   "id": "e84b4e74-e467-4824-b78d-275e3be2ca73",
   "metadata": {},
   "outputs": [],
   "source": []
  },
  {
   "cell_type": "code",
   "execution_count": null,
   "id": "04945e5a-deae-44f2-b360-50c5170ce5f1",
   "metadata": {},
   "outputs": [],
   "source": []
  },
  {
   "cell_type": "code",
   "execution_count": null,
   "id": "eb359d3c-1dfc-4b43-aa48-59955ed524fb",
   "metadata": {},
   "outputs": [],
   "source": []
  },
  {
   "cell_type": "code",
   "execution_count": null,
   "id": "7a404d34-1889-4a1a-8be3-bb862adf30d6",
   "metadata": {},
   "outputs": [],
   "source": []
  },
  {
   "cell_type": "code",
   "execution_count": null,
   "id": "133e4b24-dd91-487f-b8b9-39e5f6c19c2a",
   "metadata": {},
   "outputs": [],
   "source": []
  },
  {
   "cell_type": "code",
   "execution_count": null,
   "id": "ade333c1-73ec-43f0-8a77-5737100678c5",
   "metadata": {},
   "outputs": [],
   "source": []
  },
  {
   "cell_type": "code",
   "execution_count": null,
   "id": "ea26f85e-4851-422b-82c0-892073f6f2ce",
   "metadata": {},
   "outputs": [],
   "source": []
  },
  {
   "cell_type": "code",
   "execution_count": null,
   "id": "809ad629-1926-43e0-9947-ecd2a986718a",
   "metadata": {},
   "outputs": [],
   "source": []
  },
  {
   "cell_type": "code",
   "execution_count": null,
   "id": "43200f0a-c243-474a-a255-87b017242d21",
   "metadata": {},
   "outputs": [],
   "source": []
  },
  {
   "cell_type": "code",
   "execution_count": null,
   "id": "493ee42e-c62a-460b-a5e6-b8829912ec6c",
   "metadata": {},
   "outputs": [],
   "source": []
  },
  {
   "cell_type": "code",
   "execution_count": null,
   "id": "21354e62-aa0c-43b0-9b0a-f5a054d6daac",
   "metadata": {},
   "outputs": [],
   "source": []
  },
  {
   "cell_type": "code",
   "execution_count": null,
   "id": "073914d0-4ed4-497e-b034-883eaf0df6c8",
   "metadata": {},
   "outputs": [],
   "source": []
  },
  {
   "cell_type": "markdown",
   "id": "b2a61f6f-d318-4216-a3c3-f937fdedd2ae",
   "metadata": {},
   "source": [
    "## Textbook"
   ]
  },
  {
   "cell_type": "code",
   "execution_count": null,
   "id": "ba2b9409-1165-4f59-b3fd-187bfc8ed97e",
   "metadata": {},
   "outputs": [],
   "source": []
  },
  {
   "cell_type": "code",
   "execution_count": null,
   "id": "3276e55a-0a3b-430c-83cf-ba86cc7eb3cf",
   "metadata": {},
   "outputs": [],
   "source": []
  },
  {
   "cell_type": "code",
   "execution_count": 179,
   "id": "13a60b15-cf73-4324-b7df-0c80fa3763f8",
   "metadata": {},
   "outputs": [],
   "source": [
    "import instructor\n",
    "import pydantic\n",
    "\n"
   ]
  },
  {
   "cell_type": "code",
   "execution_count": null,
   "id": "18587bc5-7495-455d-ab20-f324280a0081",
   "metadata": {},
   "outputs": [],
   "source": []
  },
  {
   "cell_type": "code",
   "execution_count": null,
   "id": "cae7f418-c6a2-4a1f-8dea-1b7a620b3e5f",
   "metadata": {},
   "outputs": [],
   "source": [
    "import anthropic\n",
    "\n",
    "def analyze_page_range(doc, metadata, start_page, end_page, page_description):\n",
    "    \"\"\"\n",
    "    Analyze a range of pages to find the probability of each page matching the description.\n",
    "    \n",
    "    :param doc: fitz.Document object\n",
    "    :param metadata: dict with document metadata\n",
    "    :param start_page: int, starting page number (0-indexed)\n",
    "    :param end_page: int, ending page number (0-indexed)\n",
    "    :param page_description: str, description of the page type to find\n",
    "    :return: dict with page probabilities\n",
    "    \"\"\"\n",
    "    page_range_text = {\n",
    "        i: metadata[\"pages\"][i] for i in range(start_page, end_page + 1)\n",
    "    }\n",
    "    \n",
    "    client = anthropic.Client(os.environ.get(\"ANTHROPIC_API_KEY\"))\n",
    "    \n",
    "    system_message = \"\"\"\n",
    "    You are an expert text parser and librarian. Your task is to analyze the given text from a document and determine the probability that each page matches the provided description. Please read all the JSON text carefully and reflect on it before proceeding with your analysis.\n",
    "    \"\"\"\n",
    "    \n",
    "    human_message = f\"\"\"\n",
    "    Here is the JSON containing the text from a range of pages in a document:\n",
    "    \n",
    "    {json.dumps(page_range_text, indent=2)}\n",
    "    \n",
    "    Please analyze each page and determine the probability that it matches the following description:\n",
    "    \n",
    "    {page_description}\n",
    "    \n",
    "    Return your analysis as a JSON object where the keys are page numbers and the values are the probabilities (as floats between 0 and 1) that the page matches the description.\n",
    "    \"\"\"\n",
    "    \n",
    "    response = client.completion(\n",
    "        prompt=f\"{system_message}\\n\\nHuman: {human_message}\\n\\nAssistant:\",\n",
    "        model=\"claude-v1\",\n",
    "        max_tokens_to_sample=1000,\n",
    "        stop_sequences=[\"\\nHuman:\"],\n",
    "        temperature=0\n",
    "    )\n",
    "    \n",
    "    # Parse the JSON response\n",
    "    try:\n",
    "        probabilities = json.loads(response['completion'].strip())\n",
    "    except json.JSONDecodeError:\n",
    "        print(\"Error: Unable to parse JSON response from Claude\")\n",
    "        probabilities = {}\n",
    "    \n",
    "    return probabilities"
   ]
  },
  {
   "cell_type": "code",
   "execution_count": null,
   "id": "5c406886-739c-4648-aa61-aa8ffc2b01d4",
   "metadata": {},
   "outputs": [],
   "source": []
  },
  {
   "cell_type": "code",
   "execution_count": null,
   "id": "1c1e21e1-d2d1-4ec0-af9d-7828c6a3a093",
   "metadata": {},
   "outputs": [],
   "source": []
  },
  {
   "cell_type": "code",
   "execution_count": null,
   "id": "f5799b2d-ddb4-4747-9d94-61873ac09698",
   "metadata": {},
   "outputs": [],
   "source": []
  },
  {
   "cell_type": "code",
   "execution_count": 42,
   "id": "1e0c2b3e-34ef-45cc-b529-981574ec52f3",
   "metadata": {},
   "outputs": [
    {
     "data": {
      "text/plain": [
       "[5, 6, 7, 8, 9, 10, 11, 12, 13, 14, 15, 16, 17, 18, 19, 20, 21, 22]"
      ]
     },
     "execution_count": 42,
     "metadata": {},
     "output_type": "execute_result"
    }
   ],
   "source": [
    "\n",
    "contents_pagerange = get_contents_pagerange(doc)\n",
    "contents_pagenums = pagerange_to_pagenums(contents_pagerange)\n",
    "contents_pagenums"
   ]
  },
  {
   "cell_type": "code",
   "execution_count": 43,
   "id": "45bf0951-2f2d-4a94-9019-bb1f32b5dbeb",
   "metadata": {},
   "outputs": [
    {
     "name": "stdout",
     "output_type": "stream",
     "text": [
      "XIV\n",
      "Contents\n",
      "19.3.6\n",
      "Engineering Protein Folding and Secretion Pathways to Enhance\n",
      "Productivity\n",
      "701\n",
      "19.3.7\n",
      "Protein Glycosylation and Glycoengineering\n",
      "703\n",
      "19.3.8\n",
      "Recombinant Proteins on the Market\n",
      "703\n",
      "19.4\n",
      "Application of P. pastoris for Metabolite Production\n",
      "703\n",
      "19.5\n",
      "Conclusion\n",
      "705\n",
      "References\n",
      "705\n",
      "Index\n",
      "715\n",
      "\n"
     ]
    }
   ],
   "source": [
    "print(get_page_text(doc,22))"
   ]
  },
  {
   "cell_type": "code",
   "execution_count": 37,
   "id": "9a0e13a1-f9b3-4abc-aebd-631f2061c0b2",
   "metadata": {},
   "outputs": [
    {
     "name": "stdout",
     "output_type": "stream",
     "text": [
      "VII\n",
      "Contents to Volume 1\n",
      "List of Contributors\n",
      "XVII\n",
      "About the Series Editors\n",
      "XXIX\n",
      "Preface\n",
      "XXXI\n",
      "Part I\n",
      "Industrial Biotechnology: From Pioneers to Visionary\n",
      "1\n",
      "1\n",
      "History of Industrial Biotechnology\n",
      "3\n",
      "Arnold L. Demain, Erick J. Vandamme, John Collins, and Klaus Buchholz\n",
      "1.1\n",
      "The Beginning of Industrial Microbiology\n",
      "3\n",
      "1.2\n",
      "Primary Metabolites and Enzymes\n",
      "7\n",
      "1.2.1\n",
      "Birth, Rise, and Decline of the Term “Biotechnology” in the Period\n",
      "1900–1940\n",
      "7\n",
      "1.2.2\n",
      "Inﬂuential Scholars Boosting Industrial Fermentation from 1900 to\n",
      "1940\n",
      "8\n",
      "1.2.3\n",
      "Milestone Achievements in Industrial Fermentation Technology\n",
      "10\n",
      "1.2.3.1\n",
      "The Acetone–Butanol–Ethanol (ABE) Fermentation Process\n",
      "10\n",
      "1.2.3.2\n",
      "A Novel Vitamin C Fermentation Process\n",
      "11\n",
      "1.2.3.3\n",
      "The Lactic Acid Fermentation Process\n",
      "11\n",
      "1.2.3.4\n",
      "Fermentative Production of Glycerol\n",
      "12\n",
      "1.2.3.5\n",
      "L-(−)-Ephedrine by Fermentation\n",
      "12\n",
      "1.2.3.6\n",
      "Steroid Transformations\n",
      "13\n",
      "1.2.3.7\n",
      "The Citric Acid Fermentation Process\n",
      "13\n",
      "1.2.3.8\n",
      "Gluconic Acid Process\n",
      "13\n",
      "1.2.3.9\n",
      "Other Important Fermentation Processes and Products\n",
      "14\n",
      "1.2.3.10\n",
      "Applied Biocatalysis and Industrial Enzymes\n",
      "14\n",
      "1.3\n",
      "The Antibiotic Era\n",
      "16\n",
      "1.3.1\n",
      "Penicillin\n",
      "16\n",
      "1.3.2\n",
      "The Cephalosporins\n",
      "20\n",
      "1.3.3\n",
      "The Waksman Era\n",
      "23\n",
      "1.3.4\n",
      "Mutagenesis and Strain Improvement\n",
      "24\n",
      "1.3.5\n",
      "Semisynthetic Antibiotics to Combat Resistant Microbes\n",
      "26\n",
      "1.4\n",
      "The Biotechnology Era Between 1970 and 2015\n",
      "27\n",
      "\n",
      "-------------\n",
      "VIII\n",
      "Contents\n",
      "1.4.1\n",
      "Biotechnology in the 1960s and 1970s; Governmental and Political\n",
      "Initiatives\n",
      "27\n",
      "1.4.2\n",
      "The Development of New Biotechnology Companies\n",
      "29\n",
      "1.4.3\n",
      "New Bioengineering Tools\n",
      "35\n",
      "1.4.4\n",
      "Products\n",
      "39\n",
      "1.4.4.1\n",
      "Food, Feed, Industrial Commodities, and Specialties\n",
      "39\n",
      "1.4.4.2\n",
      "Biopharmaceuticals\n",
      "43\n",
      "1.4.4.3\n",
      "Plant Products, Seeds\n",
      "46\n",
      "1.4.5\n",
      "Further Aspects\n",
      "47\n",
      "1.4.5.1\n",
      "Scientiﬁc Status\n",
      "47\n",
      "1.4.5.2\n",
      "Political, Institutional, and Socioeconomic Conditions\n",
      "47\n",
      "1.4.5.3\n",
      "Economic Studies\n",
      "47\n",
      "1.4.5.4\n",
      "Science Studies\n",
      "48\n",
      "1.5\n",
      "How Pioneering Developments Led to Genetic Engineering\n",
      "48\n",
      "1.5.1\n",
      "Preamble: People and Principles in Developing Enabling\n",
      "Technologies\n",
      "48\n",
      "1.5.2\n",
      "Academic Freedom and Patenting: Hindrance to Science or Lever for\n",
      "Innovation?\n",
      "49\n",
      "1.5.3\n",
      "Conceptual Leaps and Jumps\n",
      "50\n",
      "1.5.4\n",
      "Surprise Discoveries Initiate Novel Areas/Methods of\n",
      "Research\n",
      "51\n",
      "1.5.5\n",
      "Methodology Without Which Gene Technology Would Not Have\n",
      "Been Possible\n",
      "52\n",
      "1.5.5.1\n",
      "Centrifugation: Preparation of Molecules of Diﬀerent Sizes, Shapes,\n",
      "and/or Densities: Velocity Gradient Centrifugation\n",
      "53\n",
      "1.5.5.2\n",
      "X-ray Crystallography: Understanding Molecular Structure at the\n",
      "Atomic Level\n",
      "54\n",
      "1.5.5.3\n",
      "Chromatography with Solvent Motion or Electric Charge: Detection\n",
      "of Mutant Gene Products\n",
      "55\n",
      "1.5.5.4\n",
      "Protein Sequencing\n",
      "55\n",
      "1.5.5.5\n",
      "Nucleic Acid Sequencing - the Prelude: Phage + Bacterial Genetics\n",
      "and Biochemistry, the Gene Concept\n",
      "56\n",
      "1.5.6\n",
      "DNA: Its Transfer to and Selection in Living Cells\n",
      "59\n",
      "1.5.7\n",
      "Gene Cloning (1971–1982) the Era of Modern Biotechnology Based\n",
      "on Molecular Biology Begins\n",
      "60\n",
      "1.5.7.1\n",
      "A Prerequisite for Cloning: Nucleic Acid, Biochemistry, and\n",
      "Enzymology\n",
      "60\n",
      "1.5.7.2\n",
      "Applying Known Methods or a Conceptual Jump: the\n",
      "Details\n",
      "61\n",
      "1.5.8\n",
      "Genome Mapping: Clone Libraries, Restriction Maps, and\n",
      "RFLPs\n",
      "64\n",
      "1.5.8.1\n",
      "Prelude: Human Genetics before Genome Sequencing\n",
      "64\n",
      "1.5.8.2\n",
      "Important Ideas on Gene Mapping in the DNA Age\n",
      "64\n",
      "1.5.8.3\n",
      "DNA Hybridization Chip Sequencing and More\n",
      "69\n",
      "1.5.8.4\n",
      "Mega Sequencing: Impact on Biotechnology\n",
      "69\n",
      "\n"
     ]
    }
   ],
   "source": [
    "pagenums = contents_pagenums\n",
    "page_content = {}\n",
    "for pagenum in pagenums:\n",
    "    page = doc[pagenum]\n",
    "    content = page.get_text()\n",
    "    page_content[pagenum] = content\n",
    "print(page_content[contents_pagenums[0]])\n",
    "print(\"-------------\")\n",
    "print(page_content[contents_pagenums[1]])"
   ]
  },
  {
   "cell_type": "code",
   "execution_count": null,
   "id": "59f1cf33-cb8f-4650-a040-2ddc12b1d6a9",
   "metadata": {},
   "outputs": [],
   "source": [
    "for page_num in range(len(doc)):\n",
    "    page = doc[page_num]"
   ]
  },
  {
   "cell_type": "code",
   "execution_count": 17,
   "id": "1eff4ad2-e498-43cb-977e-059863d8a822",
   "metadata": {},
   "outputs": [
    {
     "data": {
      "text/plain": [
       "{'format': 'PDF 1.4',\n",
       " 'title': '',\n",
       " 'author': '',\n",
       " 'subject': '',\n",
       " 'keywords': '',\n",
       " 'creator': '',\n",
       " 'producer': 'iText® 5.5.2 ©2000-2014 iText Group NV (Wiley; licensed version)',\n",
       " 'creationDate': \"D:20170816132514-04'00'\",\n",
       " 'modDate': \"D:20180319093217-07'00'\",\n",
       " 'trapped': '',\n",
       " 'encryption': None}"
      ]
     },
     "execution_count": 17,
     "metadata": {},
     "output_type": "execute_result"
    }
   ],
   "source": [
    "doc.metadata"
   ]
  },
  {
   "cell_type": "code",
   "execution_count": 18,
   "id": "5c17b20e-8496-4d21-b500-e118369c3a0f",
   "metadata": {},
   "outputs": [
    {
     "data": {
      "text/plain": [
       "789"
      ]
     },
     "execution_count": 18,
     "metadata": {},
     "output_type": "execute_result"
    }
   ],
   "source": []
  },
  {
   "cell_type": "markdown",
   "id": "583b53fb-ef5d-4e69-a341-f45562c9528e",
   "metadata": {},
   "source": [
    "# KEGG Data"
   ]
  },
  {
   "cell_type": "code",
   "execution_count": 7,
   "id": "70a808c2-7e64-47e4-890f-5e84780e4b2b",
   "metadata": {},
   "outputs": [],
   "source": [
    "import requests\n",
    "import time\n",
    "import xml.etree.ElementTree as ET"
   ]
  },
  {
   "cell_type": "code",
   "execution_count": 25,
   "id": "cdd59cc3-4f43-4935-a556-3964b1f0b6d9",
   "metadata": {},
   "outputs": [],
   "source": [
    "import requests\n",
    "import time\n",
    "\n",
    "class KEGGManager:\n",
    "    BASE_URL = \"https://rest.kegg.jp\"\n",
    "    \n",
    "    def __init__(self, rate_limit=1):\n",
    "        self.rate_limit = rate_limit\n",
    "        self.last_call = 0\n",
    "    \n",
    "    def _rate_limit(self):\n",
    "        elapsed = time.time() - self.last_call\n",
    "        if elapsed < self.rate_limit:\n",
    "            time.sleep(self.rate_limit - elapsed)\n",
    "        self.last_call = time.time()\n",
    "    \n",
    "    def get(self, operation, argument):\n",
    "        self._rate_limit()\n",
    "        url = f\"{self.BASE_URL}/{operation}/{argument}\"\n",
    "        print(f\"Accessing URL: {url}\")  # Print the URL being accessed\n",
    "        response = requests.get(url)\n",
    "        response.raise_for_status()\n",
    "        return response.text\n",
    "    \n",
    "    def get_pathway_info(self, pathway_id):\n",
    "        return self.get(\"get\", pathway_id)\n",
    "\n",
    "\n",
    "    def parse_pathway_info(self, info_text):\n",
    "        info_dict = {}\n",
    "        current_key = None\n",
    "        current_subkey = None\n",
    "        for line in info_text.split('\\n'):\n",
    "            if line.startswith('///'):\n",
    "                break\n",
    "            if line and not line.startswith(' '):\n",
    "                parts = line.split(None, 1)\n",
    "                current_key = parts[0]\n",
    "                if len(parts) > 1:\n",
    "                    info_dict[current_key] = parts[1]\n",
    "                else:\n",
    "                    info_dict[current_key] = []\n",
    "                current_subkey = None\n",
    "            elif line.startswith(' ') and current_key:\n",
    "                if current_key not in info_dict:\n",
    "                    info_dict[current_key] = []\n",
    "                if line.startswith('  ') and current_subkey and isinstance(info_dict[current_key], list) and info_dict[current_key] and isinstance(info_dict[current_key][-1], dict):\n",
    "                    # This is for handling nested structures like REFERENCE\n",
    "                    info_dict[current_key][-1][current_subkey] += ' ' + line.strip()\n",
    "                else:\n",
    "                    parts = line.strip().split(None, 1)\n",
    "                    if len(parts) > 1:\n",
    "                        current_subkey = parts[0]\n",
    "                        if isinstance(info_dict[current_key], list):\n",
    "                            info_dict[current_key].append({current_subkey: parts[1]})\n",
    "                        else:\n",
    "                            info_dict[current_key] += ' ' + line.strip()\n",
    "                    else:\n",
    "                        if isinstance(info_dict[current_key], list):\n",
    "                            info_dict[current_key].append(line.strip())\n",
    "                        else:\n",
    "                            info_dict[current_key] += ' ' + line.strip()\n",
    "        return info_dict"
   ]
  },
  {
   "cell_type": "code",
   "execution_count": 27,
   "id": "d23640e4-1b9d-465f-b0d5-29977833c188",
   "metadata": {},
   "outputs": [
    {
     "name": "stdout",
     "output_type": "stream",
     "text": [
      "Accessing URL: https://rest.kegg.jp/get/map00020\n",
      "\n",
      "Pathway Info retrieved successfully\n",
      "ENTRY       map00020                    Pathway\n",
      "NAME        Citrate cycle (TCA cycle)\n",
      "DESCRIPTION The citrate cycle (TCA cycle, Krebs cycle) is an important aerobic pathway for the final steps of the oxidation of carbohydrates and fatty acids. The cycle starts with acetyl-CoA, the activated form of acetate, derived from glycolysis and pyruvate oxidation for carbohydrates and from beta oxidation of fatty acids. The two-carbon acetyl group in acetyl-CoA is transferred to the four-carbon compound of oxaloacetate to form the six-carbon compound of citrate. In a series of reactions two carbons in citrate are oxidized to CO2 and the reaction pathway supplies NADH for use in the oxidative phosphorylation and other metabolic processes. The pathway also supplies important precursor metabolites including 2-oxoglutarate. At the end of the cycle the remaining four-carbon part is transformed back to oxaloacetate. According to the genome sequence data, many organisms seem to lack genes for the full cycle [MD:M00009], but contain genes for specific segments [MD:M00010 M00011].\n",
      "CLASS       Metabolism; Carbohydrate metabolism\n",
      "PATHWAY_MAP map00020  Citrate cycle (TCA cycle)\n",
      "MODULE      M00003  Gluconeogenesis, oxaloacetate => fructose-6P [PATH:map00020]\n",
      "            M00009  Citrate cycle (TCA cycle, Krebs cycle) [PATH:map00020]\n",
      "            M00010  Citrate cycle, first carbon oxidation, oxaloacetate => 2-oxoglutarate [PATH:map00020]\n",
      "            M00011  Citrate cycle, second carbon oxidation, 2-oxoglutarate => oxaloacetate [PATH:map00020]\n",
      "            M00307  Pyruvate oxidation, pyruvate => acetyl-CoA [PATH:map00020]\n",
      "            M00740  Methylaspartate cycle [PATH:map00020]\n",
      "DBLINKS     GO: 0006099\n",
      "REFERENCE   \n",
      "  AUTHORS   Nishizuka Y (ed).\n",
      "  TITLE     [Metabolic Maps] (In Japanese)\n",
      "  JOURNAL   Tokyo Kagaku Dojin (1980)\n",
      "REFERENCE   \n",
      "  AUTHORS   Nishizuka Y, Seyama Y, Ikai A, Ishimura Y, Kawaguchi A (eds).\n",
      "  TITLE     [Cellular Functions and Metabolic Maps] (In Japanese)\n",
      "  JOURNAL   Tokyo Kagaku Dojin (1997)\n",
      "REFERENCE   \n",
      "  AUTHORS   Michal G.\n",
      "  TITLE     Biochemical Pathways\n",
      "  JOURNAL   Wiley (1999)\n",
      "REL_PATHWAY map00010  Glycolysis / Gluconeogenesis\n",
      "            map00053  Ascorbate and aldarate metabolism\n",
      "            map00061  Fatty acid biosynthesis\n",
      "            map00062  Fatty acid elongation\n",
      "            map00071  Fatty acid degradation\n",
      "            map00190  Oxidative phosphorylation\n",
      "            map00220  Arginine biosynthesis\n",
      "            map00250  Alanine, aspartate and glutamate metabolism\n",
      "            map00280  Valine, leucine and isoleucine degradation\n",
      "            map00350  Tyrosine metabolism\n",
      "            map00470  D-Amino acid metabolism\n",
      "            map00630  Glyoxylate and dicarboxylate metabolism\n",
      "KO_PATHWAY  ko00020\n",
      "///\n",
      "\n"
     ]
    }
   ],
   "source": [
    "# Create an instance of the KEGGManager\n",
    "kegg_manager = KEGGManager()\n",
    "\n",
    "# Try to fetch the pathway information for the citrate cycle pathway\n",
    "pathway_id = \"map00020\"  # This is the ID for the citrate cycle\n",
    "\n",
    "try:\n",
    "    pathway_info = kegg_manager.get_pathway_info(pathway_id)\n",
    "    print(\"\\nPathway Info retrieved successfully\")\n",
    "    print(pathway_info)\n",
    "except requests.exceptions.HTTPError as e:\n",
    "    print(f\"An HTTP error occurred: {e}\")\n"
   ]
  },
  {
   "cell_type": "code",
   "execution_count": 28,
   "id": "10045e60-ce51-4bf5-b3ba-1b403a013086",
   "metadata": {},
   "outputs": [],
   "source": [
    "# Parse the pathway information\n",
    "parsed_info = kegg_manager.parse_pathway_info(pathway_info)"
   ]
  },
  {
   "cell_type": "code",
   "execution_count": 29,
   "id": "128c2d70-b3c7-44e0-ab07-ba4e63f70bd1",
   "metadata": {},
   "outputs": [
    {
     "data": {
      "text/plain": [
       "{'ENTRY': 'map00020                    Pathway',\n",
       " 'NAME': 'Citrate cycle (TCA cycle)',\n",
       " 'DESCRIPTION': 'The citrate cycle (TCA cycle, Krebs cycle) is an important aerobic pathway for the final steps of the oxidation of carbohydrates and fatty acids. The cycle starts with acetyl-CoA, the activated form of acetate, derived from glycolysis and pyruvate oxidation for carbohydrates and from beta oxidation of fatty acids. The two-carbon acetyl group in acetyl-CoA is transferred to the four-carbon compound of oxaloacetate to form the six-carbon compound of citrate. In a series of reactions two carbons in citrate are oxidized to CO2 and the reaction pathway supplies NADH for use in the oxidative phosphorylation and other metabolic processes. The pathway also supplies important precursor metabolites including 2-oxoglutarate. At the end of the cycle the remaining four-carbon part is transformed back to oxaloacetate. According to the genome sequence data, many organisms seem to lack genes for the full cycle [MD:M00009], but contain genes for specific segments [MD:M00010 M00011].',\n",
       " 'CLASS': 'Metabolism; Carbohydrate metabolism',\n",
       " 'PATHWAY_MAP': 'map00020  Citrate cycle (TCA cycle)',\n",
       " 'MODULE': 'M00003  Gluconeogenesis, oxaloacetate => fructose-6P [PATH:map00020] M00009  Citrate cycle (TCA cycle, Krebs cycle) [PATH:map00020] M00010  Citrate cycle, first carbon oxidation, oxaloacetate => 2-oxoglutarate [PATH:map00020] M00011  Citrate cycle, second carbon oxidation, 2-oxoglutarate => oxaloacetate [PATH:map00020] M00307  Pyruvate oxidation, pyruvate => acetyl-CoA [PATH:map00020] M00740  Methylaspartate cycle [PATH:map00020]',\n",
       " 'DBLINKS': 'GO: 0006099',\n",
       " 'REFERENCE': [{'AUTHORS': 'Michal G. TITLE     Biochemical Pathways JOURNAL   Wiley (1999)'}],\n",
       " 'REL_PATHWAY': 'map00010  Glycolysis / Gluconeogenesis map00053  Ascorbate and aldarate metabolism map00061  Fatty acid biosynthesis map00062  Fatty acid elongation map00071  Fatty acid degradation map00190  Oxidative phosphorylation map00220  Arginine biosynthesis map00250  Alanine, aspartate and glutamate metabolism map00280  Valine, leucine and isoleucine degradation map00350  Tyrosine metabolism map00470  D-Amino acid metabolism map00630  Glyoxylate and dicarboxylate metabolism',\n",
       " 'KO_PATHWAY': 'ko00020'}"
      ]
     },
     "execution_count": 29,
     "metadata": {},
     "output_type": "execute_result"
    }
   ],
   "source": [
    "parsed_info"
   ]
  },
  {
   "cell_type": "code",
   "execution_count": null,
   "id": "f24a438b-f1f9-4189-984a-85bbe25fc79b",
   "metadata": {},
   "outputs": [],
   "source": []
  },
  {
   "cell_type": "code",
   "execution_count": null,
   "id": "a2167e4b-b340-4f83-bea1-d8732fb9d0bb",
   "metadata": {},
   "outputs": [],
   "source": []
  },
  {
   "cell_type": "code",
   "execution_count": null,
   "id": "273370a6-c26d-4cbb-bb84-2b1fb1dc4ae8",
   "metadata": {},
   "outputs": [],
   "source": []
  },
  {
   "cell_type": "code",
   "execution_count": null,
   "id": "6ce1dd6b-d891-43d9-b49d-f3bfd636bd31",
   "metadata": {},
   "outputs": [],
   "source": []
  },
  {
   "cell_type": "code",
   "execution_count": 8,
   "id": "2c5dbae6-4ae4-49c2-bde9-18ce91c3d80a",
   "metadata": {},
   "outputs": [],
   "source": [
    "class KEGGManager:\n",
    "    BASE_URL = \"https://rest.kegg.jp\"\n",
    "    \n",
    "    def __init__(self, rate_limit=1):\n",
    "        self.rate_limit = rate_limit\n",
    "        self.last_call = 0\n",
    "    \n",
    "    def _rate_limit(self):\n",
    "        elapsed = time.time() - self.last_call\n",
    "        if elapsed < self.rate_limit:\n",
    "            time.sleep(self.rate_limit - elapsed)\n",
    "        self.last_call = time.time()\n",
    "    \n",
    "    def get(self, operation, argument):\n",
    "        self._rate_limit()\n",
    "        url = f\"{self.BASE_URL}/{operation}/{argument}\"\n",
    "        response = requests.get(url)\n",
    "        response.raise_for_status()\n",
    "        return response.text\n",
    "    \n",
    "    def get_pathway_kgml(self, pathway_id):\n",
    "        return self.get(\"get\", f\"path:{pathway_id}/kgml\")\n",
    "    \n",
    "    def get_pathway_info(self, pathway_id):\n",
    "        return self.get(\"get\", f\"path:{pathway_id}\")"
   ]
  },
  {
   "cell_type": "code",
   "execution_count": 9,
   "id": "ddcd8bf9-7294-4f67-931a-af478eb00908",
   "metadata": {},
   "outputs": [
    {
     "ename": "HTTPError",
     "evalue": "404 Client Error: Not Found for url: https://rest.kegg.jp/get/path:map00020/kgml",
     "output_type": "error",
     "traceback": [
      "\u001b[0;31m---------------------------------------------------------------------------\u001b[0m",
      "\u001b[0;31mHTTPError\u001b[0m                                 Traceback (most recent call last)",
      "Cell \u001b[0;32mIn[9], line 6\u001b[0m\n\u001b[1;32m      4\u001b[0m \u001b[38;5;66;03m# Now, let's fetch the KGML data for the citrate cycle pathway\u001b[39;00m\n\u001b[1;32m      5\u001b[0m pathway_id \u001b[38;5;241m=\u001b[39m \u001b[38;5;124m\"\u001b[39m\u001b[38;5;124mmap00020\u001b[39m\u001b[38;5;124m\"\u001b[39m  \u001b[38;5;66;03m# This is the ID for the citrate cycle\u001b[39;00m\n\u001b[0;32m----> 6\u001b[0m kgml_data \u001b[38;5;241m=\u001b[39m \u001b[43mkegg_manager\u001b[49m\u001b[38;5;241;43m.\u001b[39;49m\u001b[43mget_pathway_kgml\u001b[49m\u001b[43m(\u001b[49m\u001b[43mpathway_id\u001b[49m\u001b[43m)\u001b[49m\n\u001b[1;32m      8\u001b[0m \u001b[38;5;66;03m# Let's also get the pathway information\u001b[39;00m\n\u001b[1;32m      9\u001b[0m pathway_info \u001b[38;5;241m=\u001b[39m kegg_manager\u001b[38;5;241m.\u001b[39mget_pathway_info(pathway_id)\n",
      "Cell \u001b[0;32mIn[8], line 22\u001b[0m, in \u001b[0;36mKEGGManager.get_pathway_kgml\u001b[0;34m(self, pathway_id)\u001b[0m\n\u001b[1;32m     21\u001b[0m \u001b[38;5;28;01mdef\u001b[39;00m \u001b[38;5;21mget_pathway_kgml\u001b[39m(\u001b[38;5;28mself\u001b[39m, pathway_id):\n\u001b[0;32m---> 22\u001b[0m     \u001b[38;5;28;01mreturn\u001b[39;00m \u001b[38;5;28;43mself\u001b[39;49m\u001b[38;5;241;43m.\u001b[39;49m\u001b[43mget\u001b[49m\u001b[43m(\u001b[49m\u001b[38;5;124;43m\"\u001b[39;49m\u001b[38;5;124;43mget\u001b[39;49m\u001b[38;5;124;43m\"\u001b[39;49m\u001b[43m,\u001b[49m\u001b[43m \u001b[49m\u001b[38;5;124;43mf\u001b[39;49m\u001b[38;5;124;43m\"\u001b[39;49m\u001b[38;5;124;43mpath:\u001b[39;49m\u001b[38;5;132;43;01m{\u001b[39;49;00m\u001b[43mpathway_id\u001b[49m\u001b[38;5;132;43;01m}\u001b[39;49;00m\u001b[38;5;124;43m/kgml\u001b[39;49m\u001b[38;5;124;43m\"\u001b[39;49m\u001b[43m)\u001b[49m\n",
      "Cell \u001b[0;32mIn[8], line 18\u001b[0m, in \u001b[0;36mKEGGManager.get\u001b[0;34m(self, operation, argument)\u001b[0m\n\u001b[1;32m     16\u001b[0m url \u001b[38;5;241m=\u001b[39m \u001b[38;5;124mf\u001b[39m\u001b[38;5;124m\"\u001b[39m\u001b[38;5;132;01m{\u001b[39;00m\u001b[38;5;28mself\u001b[39m\u001b[38;5;241m.\u001b[39mBASE_URL\u001b[38;5;132;01m}\u001b[39;00m\u001b[38;5;124m/\u001b[39m\u001b[38;5;132;01m{\u001b[39;00moperation\u001b[38;5;132;01m}\u001b[39;00m\u001b[38;5;124m/\u001b[39m\u001b[38;5;132;01m{\u001b[39;00margument\u001b[38;5;132;01m}\u001b[39;00m\u001b[38;5;124m\"\u001b[39m\n\u001b[1;32m     17\u001b[0m response \u001b[38;5;241m=\u001b[39m requests\u001b[38;5;241m.\u001b[39mget(url)\n\u001b[0;32m---> 18\u001b[0m \u001b[43mresponse\u001b[49m\u001b[38;5;241;43m.\u001b[39;49m\u001b[43mraise_for_status\u001b[49m\u001b[43m(\u001b[49m\u001b[43m)\u001b[49m\n\u001b[1;32m     19\u001b[0m \u001b[38;5;28;01mreturn\u001b[39;00m response\u001b[38;5;241m.\u001b[39mtext\n",
      "File \u001b[0;32m~/miniconda3/envs/conductor/lib/python3.10/site-packages/requests/models.py:1024\u001b[0m, in \u001b[0;36mResponse.raise_for_status\u001b[0;34m(self)\u001b[0m\n\u001b[1;32m   1019\u001b[0m     http_error_msg \u001b[38;5;241m=\u001b[39m (\n\u001b[1;32m   1020\u001b[0m         \u001b[38;5;124mf\u001b[39m\u001b[38;5;124m\"\u001b[39m\u001b[38;5;132;01m{\u001b[39;00m\u001b[38;5;28mself\u001b[39m\u001b[38;5;241m.\u001b[39mstatus_code\u001b[38;5;132;01m}\u001b[39;00m\u001b[38;5;124m Server Error: \u001b[39m\u001b[38;5;132;01m{\u001b[39;00mreason\u001b[38;5;132;01m}\u001b[39;00m\u001b[38;5;124m for url: \u001b[39m\u001b[38;5;132;01m{\u001b[39;00m\u001b[38;5;28mself\u001b[39m\u001b[38;5;241m.\u001b[39murl\u001b[38;5;132;01m}\u001b[39;00m\u001b[38;5;124m\"\u001b[39m\n\u001b[1;32m   1021\u001b[0m     )\n\u001b[1;32m   1023\u001b[0m \u001b[38;5;28;01mif\u001b[39;00m http_error_msg:\n\u001b[0;32m-> 1024\u001b[0m     \u001b[38;5;28;01mraise\u001b[39;00m HTTPError(http_error_msg, response\u001b[38;5;241m=\u001b[39m\u001b[38;5;28mself\u001b[39m)\n",
      "\u001b[0;31mHTTPError\u001b[0m: 404 Client Error: Not Found for url: https://rest.kegg.jp/get/path:map00020/kgml"
     ]
    }
   ],
   "source": [
    "# First, let's instantiate our KEGGManager\n",
    "kegg_manager = KEGGManager()\n",
    "\n",
    "# Now, let's fetch the KGML data for the citrate cycle pathway\n",
    "pathway_id = \"map00020\"  # This is the ID for the citrate cycle\n",
    "kgml_data = kegg_manager.get_pathway_kgml(pathway_id)\n",
    "\n",
    "# Let's also get the pathway information\n",
    "pathway_info = kegg_manager.get_pathway_info(pathway_id)"
   ]
  },
  {
   "cell_type": "code",
   "execution_count": 5,
   "id": "4f088988-8fa8-4bc3-b44b-8ab8394f8fcc",
   "metadata": {},
   "outputs": [
    {
     "ename": "HTTPError",
     "evalue": "404 Client Error: Not Found for url: https://rest.kegg.jp/get/map00020/kgml",
     "output_type": "error",
     "traceback": [
      "\u001b[0;31m---------------------------------------------------------------------------\u001b[0m",
      "\u001b[0;31mHTTPError\u001b[0m                                 Traceback (most recent call last)",
      "Cell \u001b[0;32mIn[5], line 8\u001b[0m\n\u001b[1;32m      6\u001b[0m \u001b[38;5;66;03m# Now, let's fetch the KGML data for the citrate cycle pathway\u001b[39;00m\n\u001b[1;32m      7\u001b[0m pathway_id \u001b[38;5;241m=\u001b[39m \u001b[38;5;124m\"\u001b[39m\u001b[38;5;124mmap00020\u001b[39m\u001b[38;5;124m\"\u001b[39m  \u001b[38;5;66;03m# This is the ID for the citrate cycle\u001b[39;00m\n\u001b[0;32m----> 8\u001b[0m kgml_data \u001b[38;5;241m=\u001b[39m \u001b[43mkegg_manager\u001b[49m\u001b[38;5;241;43m.\u001b[39;49m\u001b[43mget_pathway_kgml\u001b[49m\u001b[43m(\u001b[49m\u001b[43mpathway_id\u001b[49m\u001b[43m)\u001b[49m\n\u001b[1;32m     10\u001b[0m \u001b[38;5;66;03m# Let's also get the pathway information\u001b[39;00m\n\u001b[1;32m     11\u001b[0m pathway_info \u001b[38;5;241m=\u001b[39m kegg_manager\u001b[38;5;241m.\u001b[39mget_pathway_info(pathway_id)\n",
      "Cell \u001b[0;32mIn[3], line 25\u001b[0m, in \u001b[0;36mKEGGManager.get_pathway_kgml\u001b[0;34m(self, pathway_id)\u001b[0m\n\u001b[1;32m     24\u001b[0m \u001b[38;5;28;01mdef\u001b[39;00m \u001b[38;5;21mget_pathway_kgml\u001b[39m(\u001b[38;5;28mself\u001b[39m, pathway_id):\n\u001b[0;32m---> 25\u001b[0m     \u001b[38;5;28;01mreturn\u001b[39;00m \u001b[38;5;28;43mself\u001b[39;49m\u001b[38;5;241;43m.\u001b[39;49m\u001b[43mget\u001b[49m\u001b[43m(\u001b[49m\u001b[38;5;124;43m\"\u001b[39;49m\u001b[38;5;124;43mget\u001b[39;49m\u001b[38;5;124;43m\"\u001b[39;49m\u001b[43m,\u001b[49m\u001b[43m \u001b[49m\u001b[38;5;124;43mf\u001b[39;49m\u001b[38;5;124;43m\"\u001b[39;49m\u001b[38;5;132;43;01m{\u001b[39;49;00m\u001b[43mpathway_id\u001b[49m\u001b[38;5;132;43;01m}\u001b[39;49;00m\u001b[38;5;124;43m/kgml\u001b[39;49m\u001b[38;5;124;43m\"\u001b[39;49m\u001b[43m)\u001b[49m\n",
      "Cell \u001b[0;32mIn[3], line 21\u001b[0m, in \u001b[0;36mKEGGManager.get\u001b[0;34m(self, operation, argument)\u001b[0m\n\u001b[1;32m     19\u001b[0m url \u001b[38;5;241m=\u001b[39m \u001b[38;5;124mf\u001b[39m\u001b[38;5;124m\"\u001b[39m\u001b[38;5;132;01m{\u001b[39;00m\u001b[38;5;28mself\u001b[39m\u001b[38;5;241m.\u001b[39mBASE_URL\u001b[38;5;132;01m}\u001b[39;00m\u001b[38;5;124m/\u001b[39m\u001b[38;5;132;01m{\u001b[39;00moperation\u001b[38;5;132;01m}\u001b[39;00m\u001b[38;5;124m/\u001b[39m\u001b[38;5;132;01m{\u001b[39;00margument\u001b[38;5;132;01m}\u001b[39;00m\u001b[38;5;124m\"\u001b[39m\n\u001b[1;32m     20\u001b[0m response \u001b[38;5;241m=\u001b[39m requests\u001b[38;5;241m.\u001b[39mget(url)\n\u001b[0;32m---> 21\u001b[0m \u001b[43mresponse\u001b[49m\u001b[38;5;241;43m.\u001b[39;49m\u001b[43mraise_for_status\u001b[49m\u001b[43m(\u001b[49m\u001b[43m)\u001b[49m\n\u001b[1;32m     22\u001b[0m \u001b[38;5;28;01mreturn\u001b[39;00m response\u001b[38;5;241m.\u001b[39mtext\n",
      "File \u001b[0;32m~/miniconda3/envs/conductor/lib/python3.10/site-packages/requests/models.py:1024\u001b[0m, in \u001b[0;36mResponse.raise_for_status\u001b[0;34m(self)\u001b[0m\n\u001b[1;32m   1019\u001b[0m     http_error_msg \u001b[38;5;241m=\u001b[39m (\n\u001b[1;32m   1020\u001b[0m         \u001b[38;5;124mf\u001b[39m\u001b[38;5;124m\"\u001b[39m\u001b[38;5;132;01m{\u001b[39;00m\u001b[38;5;28mself\u001b[39m\u001b[38;5;241m.\u001b[39mstatus_code\u001b[38;5;132;01m}\u001b[39;00m\u001b[38;5;124m Server Error: \u001b[39m\u001b[38;5;132;01m{\u001b[39;00mreason\u001b[38;5;132;01m}\u001b[39;00m\u001b[38;5;124m for url: \u001b[39m\u001b[38;5;132;01m{\u001b[39;00m\u001b[38;5;28mself\u001b[39m\u001b[38;5;241m.\u001b[39murl\u001b[38;5;132;01m}\u001b[39;00m\u001b[38;5;124m\"\u001b[39m\n\u001b[1;32m   1021\u001b[0m     )\n\u001b[1;32m   1023\u001b[0m \u001b[38;5;28;01mif\u001b[39;00m http_error_msg:\n\u001b[0;32m-> 1024\u001b[0m     \u001b[38;5;28;01mraise\u001b[39;00m HTTPError(http_error_msg, response\u001b[38;5;241m=\u001b[39m\u001b[38;5;28mself\u001b[39m)\n",
      "\u001b[0;31mHTTPError\u001b[0m: 404 Client Error: Not Found for url: https://rest.kegg.jp/get/map00020/kgml"
     ]
    }
   ],
   "source": [
    "\n",
    "\n",
    "\n",
    "# Now, let's parse the KGML data\n",
    "root = ET.fromstring(kgml_data)\n",
    "\n",
    "# Let's extract some basic information\n",
    "pathway_name = root.get('name')\n",
    "pathway_title = root.get('title')\n",
    "\n",
    "# Let's count the entries and relations\n",
    "entries = root.findall('entry')\n",
    "relations = root.findall('relation')\n",
    "\n",
    "# Let's categorize the entries\n",
    "compounds = [entry for entry in entries if entry.get('type') == 'compound']\n",
    "genes = [entry for entry in entries if entry.get('type') == 'gene']\n",
    "enzymes = [entry for entry in entries if entry.get('type') == 'enzyme']\n",
    "\n",
    "# Print out some information\n",
    "print(f\"Pathway: {pathway_title} ({pathway_name})\")\n",
    "print(f\"Total entries: {len(entries)}\")\n",
    "print(f\"Compounds: {len(compounds)}\")\n",
    "print(f\"Genes/Proteins: {len(genes)}\")\n",
    "print(f\"Enzymes: {len(enzymes)}\")\n",
    "print(f\"Relations: {len(relations)}\")\n",
    "\n",
    "# Let's print out the names of the compounds\n",
    "print(\"\\nCompounds in this pathway:\")\n",
    "for compound in compounds:\n",
    "    print(compound.get('name'))\n",
    "\n",
    "# Let's print out some of the relations\n",
    "print(\"\\nSome relations in this pathway:\")\n",
    "for relation in relations[:5]:  # Let's just print the first 5\n",
    "    entry1 = relation.get('entry1')\n",
    "    entry2 = relation.get('entry2')\n",
    "    type = relation.get('type')\n",
    "    print(f\"{entry1} -- {type} --> {entry2}\")\n",
    "\n",
    "# Finally, let's print some of the pathway information\n",
    "print(\"\\nPathway Information:\")\n",
    "print(pathway_info[:500] + \"...\")  # Print the first 500 characters"
   ]
  },
  {
   "cell_type": "code",
   "execution_count": null,
   "id": "3a8ced38-5a63-4e38-9886-6f5a0d320541",
   "metadata": {},
   "outputs": [],
   "source": []
  }
 ],
 "metadata": {
  "kernelspec": {
   "display_name": "Python 3 (ipykernel)",
   "language": "python",
   "name": "python3"
  },
  "language_info": {
   "codemirror_mode": {
    "name": "ipython",
    "version": 3
   },
   "file_extension": ".py",
   "mimetype": "text/x-python",
   "name": "python",
   "nbconvert_exporter": "python",
   "pygments_lexer": "ipython3",
   "version": "3.10.14"
  }
 },
 "nbformat": 4,
 "nbformat_minor": 5
}
